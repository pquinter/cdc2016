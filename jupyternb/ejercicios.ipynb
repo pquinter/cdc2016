{
 "cells": [
  {
   "cell_type": "code",
   "execution_count": null,
   "metadata": {
    "collapsed": false
   },
   "outputs": [],
   "source": [
    "%matplotlib inline\n",
    "from matplotlib import pyplot as plt\n",
    "import pandas as pd\n",
    "import numpy as np\n",
    "import seaborn as sns"
   ]
  },
  {
   "cell_type": "markdown",
   "metadata": {},
   "source": [
    "Calcular el numero de segundos en un anio"
   ]
  },
  {
   "cell_type": "code",
   "execution_count": null,
   "metadata": {
    "collapsed": false
   },
   "outputs": [],
   "source": [
    "seg_min, min_hr, hr_dia, dia_anio = 60, 60, 24, 365\n",
    "seg_min * min_hr * hr_dia * dia_anio"
   ]
  },
  {
   "cell_type": "markdown",
   "metadata": {},
   "source": [
    "Escribir un programa que imprima 0 si un programa es palindrome, -1 si no. \n",
    "\n",
    "Pista palabra[::-1] regresa la palabra al reves\n",
    "\n",
    "cc\n",
    "palabra = 'anitalavalatina'\n",
    "(palabra[::-1] == palabra) - 1"
   ]
  },
  {
   "cell_type": "markdown",
   "metadata": {},
   "source": [
    "#if\n",
    "Escribir una funcion que identifique el numero mas grande de un grupo de tres"
   ]
  },
  {
   "cell_type": "code",
   "execution_count": null,
   "metadata": {
    "collapsed": false
   },
   "outputs": [],
   "source": [
    "#Funcion previa para idenificar el numero mas grande de un par\n",
    "par = [1,2]\n",
    "def mas_grande_par(par):\n",
    "    \"\"\"\n",
    "    Identifica el numero mas grande de un par\n",
    "    \"\"\"\n",
    "    if par[0] > par[1]: return par[0]\n",
    "    else: return par[1]\n",
    "\n",
    "trio = [1,2,5]\n",
    "def mas_grande_tres(trio):\n",
    "    \"\"\"\n",
    "    Identifica el numero mas grande de un grupo de tres\n",
    "    \"\"\"\n",
    "    return mas_grande_par([trio[2], mas_grande_par(trio[:2])])"
   ]
  },
  {
   "cell_type": "markdown",
   "metadata": {},
   "source": [
    "Escribir una funcion que regrese nucleotidos complementarios (una sola letra)"
   ]
  },
  {
   "cell_type": "code",
   "execution_count": null,
   "metadata": {
    "collapsed": false
   },
   "outputs": [],
   "source": [
    "def base_comp(base):\n",
    "    \"\"\"Regresa el nucleotido complementario\"\"\"\n",
    "    # Convertir a minusculas\n",
    "    base = base.lower()\n",
    "    if base == 'a':\n",
    "        return 'T'\n",
    "    elif base == 't':\n",
    "        return 'A'\n",
    "    elif base == 'g':\n",
    "        return 'C'\n",
    "    elif base == 'c':\n",
    "        return 'G'\n",
    "    else: raise TypeError('Input incorrecto, solo acepta \"As, Ts, Gs y Cs\"')"
   ]
  },
  {
   "cell_type": "markdown",
   "metadata": {},
   "source": [
    "Calcular un factorial"
   ]
  },
  {
   "cell_type": "code",
   "execution_count": null,
   "metadata": {
    "collapsed": false
   },
   "outputs": [],
   "source": [
    "def factorial(n):\n",
    "    \"\"\"Calcula factorial\"\"\"\n",
    "    for i in range(1,n): n*=i\n",
    "    return n"
   ]
  },
  {
   "cell_type": "markdown",
   "metadata": {},
   "source": [
    "Calcular secuencia de ADN complementaria"
   ]
  },
  {
   "cell_type": "code",
   "execution_count": null,
   "metadata": {
    "collapsed": false
   },
   "outputs": [],
   "source": [
    "def sec_comp(secuencia):\n",
    "    \"\"\"Calcula secuencia de ADN complementaria\"\"\"\n",
    "    complemento = ''\n",
    "    for b in secuencia:\n",
    "        complemento += base_comp(b)\n",
    "    return complemento"
   ]
  },
  {
   "cell_type": "markdown",
   "metadata": {},
   "source": [
    "Traducir ADN"
   ]
  },
  {
   "cell_type": "code",
   "execution_count": null,
   "metadata": {
    "collapsed": false
   },
   "outputs": [],
   "source": [
    "# Bases de ADN\n",
    "bases = ['T', 'C', 'A', 'G']\n",
    "\n",
    "# Hacer lista de codones\n",
    "codons = []\n",
    "for first_base in bases:\n",
    "    for second_base in bases:\n",
    "        for third_base in bases:\n",
    "            codons += [first_base + second_base + third_base]\n",
    "codons = [first_base + second_base + third_base for first_base in bases for second_base in bases for third_base in bases] \n",
    "# Amino acidos\n",
    "amino_acids = 'FFLLSSSSYY**CC*WLLLLPPPPHHQQRRRRIIIMTTTTNNKKSSRRVVVVAAAADDEEGGGG'\n",
    "\n",
    "# Hacer diccionario\n",
    "codon_dict = dict(zip(codons, amino_acids))"
   ]
  },
  {
   "cell_type": "markdown",
   "metadata": {},
   "source": [
    "Comparar velocidad de funcion de numpy y funcion de python"
   ]
  },
  {
   "cell_type": "code",
   "execution_count": null,
   "metadata": {
    "collapsed": false
   },
   "outputs": [],
   "source": [
    "# Crear una matriz de 10 mil numeros aleatorios entre 0 y 1\n",
    "x = np.random.random(10000)\n",
    "\n",
    "# Funcion de python para sumar\n",
    "def python_sum(x):\n",
    "    \"\"\"Suma los numeros de x\"\"\"\n",
    "    x_sum = 0.0\n",
    "    for n in x:\n",
    "        x_sum += n\n",
    "    return x_sum\n",
    "\n",
    "# Comparar velocidad\n",
    "suma_python = %timeit -o python_sum(x)\n",
    "suma_numpy = %timeit -o x.sum()\n",
    "print(suma_python.best/suma_numpy.best)"
   ]
  },
  {
   "cell_type": "markdown",
   "metadata": {},
   "source": [
    "Crear y graficar lineas"
   ]
  },
  {
   "cell_type": "code",
   "execution_count": null,
   "metadata": {
    "collapsed": false
   },
   "outputs": [],
   "source": [
    "def linea(m, x, b):\n",
    "    \"\"\"Funcion de una linea\"\"\"\n",
    "    return m * x + b\n",
    "# hacer la linea\n",
    "m, x, b = 0.5, np.arange(10), 0\n",
    "# graficar\n",
    "plt.plot(x, linea(x))\n",
    "# graficar coseno\n",
    "x = np.linspace(0,100)\n",
    "plt.plot(x, np.cos(x))\n",
    "x_smooth = np.linspace(0,100,1000)\n",
    "plt.plot(x_smooth, np.cos(x_smooth))"
   ]
  },
  {
   "cell_type": "markdown",
   "metadata": {},
   "source": [
    "Demostracion de seaborn y bokeh con graficos matplotlib"
   ]
  },
  {
   "cell_type": "code",
   "execution_count": null,
   "metadata": {
    "collapsed": false
   },
   "outputs": [],
   "source": [
    "import seaborn as sns\n",
    "x = np.random.random(10000)\n",
    "plt.plot(x,'.')\n",
    "\n",
    "import bokeh.io\n",
    "import bokeh.mpl\n",
    "import bokeh.plotting\n",
    "# Configurar Bokeh para plots inline\n",
    "bokeh.io.output_notebook()\n",
    "# Hacer plot interactivo con bokeh (pegar despues de plot)\n",
    "bokeh.plotting.show(bokeh.mpl.to_bokeh())"
   ]
  }
 ],
 "metadata": {},
 "nbformat": 4,
 "nbformat_minor": 0
}
