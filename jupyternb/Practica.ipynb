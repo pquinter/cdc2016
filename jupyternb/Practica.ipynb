{
 "cells": [
  {
   "cell_type": "markdown",
   "metadata": {},
   "source": [
    "# Práctica de Laboratorio CdeC16\n",
    "En esta práctica extraeremos ADN con el gen de la proteína roja fluorescente y el gen de resistencia al antibiótico ampicilina. Utilizaremos este ADN para transformar bacterias, demostrando que la información genética es transferible. Ésta universalidad de la biología molecular es el principio básico de la ingeniería genética. \n",
    "<img src=\"files/rfp.jpg\" alt=\"Drawing\" style=\"width: 500px;\"/>"
   ]
  },
  {
   "cell_type": "markdown",
   "metadata": {},
   "source": [
    "# Extracción de ADN plasmídico\n",
    "1. Añadir 100 µL de solución I y resuspender el pellet.\n",
    "2. Añadir 200 µL de solución II y mezclar rotando el tubo. Incubar 5 minutos a temperatura ambiente.\n",
    "3. Añadir 150 µL de solución III fría y mezclar rotando el tubo. Incubar en hielo 5 minutos.\n",
    "4. Centrifugar 10 minutos a máxima velocidad.\n",
    "5. Transferir el sobrenadante a un tubo nuevo. \n",
    "6. Añadir 700 µL de etanol al 100% frío y mezclar vigorosamente.\n",
    "7. Centrifugar 10 minutos a máxima velocidad.\n",
    "8. Succionar el sobrenadante con una pipeta limpia y dejar secar.\n",
    "9. Añadir 20 µL de H<sub>2</sub>O. "
   ]
  },
  {
   "cell_type": "markdown",
   "metadata": {},
   "source": [
    "# Transformación de bacterias competentes\n",
    "1. Descongelar las bacterias competentes en hielo. Evita tocar la parte inferior del tubo. \n",
    "2. Remojar un palillo estéril en ADN e introducirlo en el tubo con bacterias.\n",
    "3. Incubar 5 minutos en hielo.\n",
    "4. Poner el tubo en agua a 42°C por 30 segundos.\n",
    "5. Incubar en hielo 2 minutos.\n",
    "6. Añadir 250 µL de medio LB e incubar a 37°C por una hora. \n",
    "7. Transferir las bacterias a una placa petri con agar-LB y esparcir con perlas de vidrio estériles.\n",
    "\n",
    "\n",
    "<img src=\"files/transformacion.png\" alt=\"Drawing\" style=\"width: 300px;\"/>\n",
    "Imagen de [addgene](https://www.addgene.org/plasmid-protocols/bacterial-transformation/)"
   ]
  }
 ],
 "metadata": {
  "kernelspec": {
   "display_name": "Python 3",
   "language": "python",
   "name": "python3"
  },
  "language_info": {
   "codemirror_mode": {
    "name": "ipython",
    "version": 3
   },
   "file_extension": ".py",
   "mimetype": "text/x-python",
   "name": "python",
   "nbconvert_exporter": "python",
   "pygments_lexer": "ipython3",
   "version": "3.5.1"
  }
 },
 "nbformat": 4,
 "nbformat_minor": 0
}
