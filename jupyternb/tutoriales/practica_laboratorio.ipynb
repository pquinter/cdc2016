{
 "cells": [
  {
   "cell_type": "markdown",
   "metadata": {},
   "source": [
    "# Práctica de Laboratorio CdeC16\n",
    "En esta práctica extraeremos ADN con el gen de la proteína roja fluorescente y el gen de resistencia al antibiótico ampicilina. Utilizaremos este ADN para transformar bacterias, demostrando que la información genética es transferible. Ésta universalidad de la biología molecular es el principio básico de la ingeniería genética. "
   ]
  },
  {
   "cell_type": "markdown",
   "metadata": {},
   "source": [
    "# Extracción de ADN plasmídico\n",
    "La receta de las soluciones que utilizaremos para extraer ADN plasmídico:\n",
    "\n",
    "Solución I --> Resuspensión, mantener presión osmótica, inhibir DNAsas\n",
    "\t1. 25 mM Tris-HCl (pH 8)\n",
    "\t2. 50 mM glucosa \n",
    "\t3. 10 mM EDTA \n",
    "Solución II --> Lisis, desnaturalización\n",
    "\t1. 0.2 N NaOH\n",
    "\t2. 1.0% SDS\n",
    "Solución III --> Renaturalización\n",
    "\t1. 120 mL 5M acetato de potasio\n",
    "\t2. 23 mL ácido acético\n",
    "\t3. 57 mL of dH2O\n",
    "<img src=\"bacteria.svg\" alt=\"Drawing\" style=\"width: 400px;\"/> \n",
    "\n",
    "# Protocolo\n",
    "1. Añadir 100 µL de solución I y resuspender el pellet.\n",
    "2. Añadir 200 µL de solución II y mezclar rotando el tubo. Incubar 5 minutos a temperatura ambiente.\n",
    "3. Añadir 150 µL de solución III fría y mezclar rotando el tubo. Incubar en hielo 5 minutos.\n",
    "4. Centrifugar 10 minutos a máxima velocidad.\n",
    "5. Transferir el sobrenadante a un tubo nuevo. \n",
    "6. Añadir 350 µL de isopropanol y mezclar vigorosamente.\n",
    "7. Centrifugar 10 minutos a máxima velocidad.\n",
    "8. Succionar el sobrenadante con una pipeta limpia y dejar secar.\n",
    "9. Añadir 50 µL de H<sub>2</sub>O. "
   ]
  },
  {
   "cell_type": "markdown",
   "metadata": {},
   "source": [
    "# Transformación de bacterias competentes\n",
    "Ahora debemos introducir el ADN plasmídico a bacterias ``competentes``: células debilitadas con un tratamiento químico que, permite incrementar la permeabilidad de su membrana con un choque térmico. Sin embargo, no todas las células en solución serán transformadas, por lo que necesitamos seleccionar aquellas que tomaron el plásmido. La selección con antibióticos es increíblemente útil para lograrlo.\n",
    "<img src=\"transformacion.png\" alt=\"Drawing\" style=\"width: 350px;\"/>\n",
    "Imagen de [addgene](https://www.addgene.org/plasmid-protocols/bacterial-transformation/)\n",
    "\n",
    "# Protocolo\n",
    "1. Descongelar las bacterias competentes en hielo. Evita tocar la parte inferior del tubo. \n",
    "2. Remojar un palillo estéril en ADN e introducirlo en el tubo con bacterias.\n",
    "3. Incubar 5 minutos en hielo.\n",
    "4. Poner el tubo en agua a 42°C por 30 segundos.\n",
    "5. Incubar en hielo 2 minutos.\n",
    "6. Añadir 250 µL de medio LB e incubar a 37°C por una hora. \n",
    "7. Transferir las bacterias a una placa petri con agar-LB y esparcir con perlas de vidrio estériles.\n",
    "\n",
    "<img src=\"rfp.jpg\" alt=\"Drawing\" style=\"width: 500px;\"/>"
   ]
  }
 ],
 "metadata": {
  "kernelspec": {
   "display_name": "Python 3",
   "language": "python",
   "name": "python3"
  },
  "language_info": {
   "codemirror_mode": {
    "name": "ipython",
    "version": 3
   },
   "file_extension": ".py",
   "mimetype": "text/x-python",
   "name": "python",
   "nbconvert_exporter": "python",
   "pygments_lexer": "ipython3",
   "version": "3.5.1"
  }
 },
 "nbformat": 4,
 "nbformat_minor": 0
}
