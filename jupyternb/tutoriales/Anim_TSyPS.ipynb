{
 "cells": [
  {
   "cell_type": "markdown",
   "metadata": {},
   "source": [
    "# Análisis de sistemas de 2 ecuaciones diferenciales\n",
    "\n",
    "Este programa resuelve un sistema de ecuaciones diferenciales de 2 variables y grafica de forma animada las variables respecto al tiempo y la trayectoria de la dinámica en el espacio fase"
   ]
  },
  {
   "cell_type": "code",
   "execution_count": null,
   "metadata": {
    "collapsed": false
   },
   "outputs": [],
   "source": [
    "# Importamos librerías\n",
    "\n",
    "from matplotlib import pyplot as plt\n",
    "import matplotlib.animation as animation\n",
    "from scipy.integrate import odeint\n",
    "from numpy import arange\n",
    "\n",
    "# Determinamos los parámetros\n",
    "\n",
    "a, b = 0.0, -0.2       \n",
    "c, d = 0.8, -0.1       \n",
    "\n",
    "# Definimos nuestras ecuaciones diferenciales\n",
    "def eq(state, t):\n",
    "    x, y = state\n",
    "    dx = a*x + b*y\n",
    "    dy = c*x + d*y\n",
    "    return [dx, dy]\n",
    "\n",
    "# Definimos nuestra línea del tiempo\n",
    "t = arange(0, 20, 0.1)\n",
    "#t = n.arange(0.0, 10, 0.01)\n",
    "\n",
    "# Ponemos los valores iniciales en forma de vectores\n",
    "init_state = [1, 1]\n",
    "\n",
    "#Resolvemos la ecuación diferencial\n",
    "state = odeint(eq, init_state, t)\n",
    "\n",
    "x= state[:, 0]\n",
    "y= state[:, 1]\n",
    "################ Animación #################\n",
    "\n",
    "#### Variable con t ####\n",
    "\n",
    "#Hacemos la grafica tenue\n",
    "fig2 = plt.figure()\n",
    "plt.xlabel('Variable')\n",
    "plt.ylabel('Tiempo')\n",
    "plt.plot(t, x, 'b-', alpha=0.2, label='x')\n",
    "plt.plot(t, y,  'r-', alpha=0.2, label='y')\n",
    "plt.legend()\n",
    "\n",
    "#hacemos la función animación\n",
    "def animate2(i):\n",
    "    plt.plot(t[0:i], x[0:i], 'b-')\n",
    "    plt.plot(t[0:i], y[0:i], 'r-')\n",
    "\n",
    "ani1 = animation.FuncAnimation(fig2, animate2, interval=1)\n",
    "plt.show()\n",
    "\n",
    "\n",
    "\n",
    "### Espacio fase ###\n",
    "fig = figure()\n",
    "xlabel('x')\n",
    "ylabel('y')\n",
    "plt.plot(x, y, 'b-', alpha=0.2)\n",
    "\n",
    "def animate(i):\n",
    "    plt.plot(x[0:i], y[0:i], 'b-')\n",
    "\n",
    "\n",
    "ani = animation.FuncAnimation(fig, animate, interval=1)\n",
    "plt.show()"
   ]
  },
  {
   "cell_type": "markdown",
   "metadata": {},
   "source": [
    "# Análisis de sistemas de 3 ecuaciones diferenciales\n",
    "\n",
    "Este programa resuelve un sistema de 3 ecuaciones diferenciales"
   ]
  },
  {
   "cell_type": "code",
   "execution_count": null,
   "metadata": {
    "collapsed": false
   },
   "outputs": [],
   "source": [
    "# Importamos librerías\n",
    "\n",
    "import matplotlib.animation as animation\n",
    "from scipy.integrate import odeint\n",
    "from numpy import arange\n",
    "\n",
    "# Determinamos los parámetros\n",
    "\n",
    "a, b, c= 0.0, -0.2, 0.1       \n",
    "d, e, f = 0.8, -0.1, 0.1       \n",
    "g, h, u = 0.1, 0.1, 0.1\n",
    "\n",
    "# Definimos nuestras ecuaciones diferenciales\n",
    "def eq(state, t):\n",
    "    x, y , z= state\n",
    "    dx = a*x + b*y + c*z\n",
    "    dy = d*x + e*y + f*z\n",
    "    dz = g*x + h*y + u*z\n",
    "    return [dx, dy, dz]\n",
    "\n",
    "# Definimos nuestra línea del tiempo\n",
    "t = arange(0, 20, 0.1)\n",
    "#t = n.arange(0.0, 10, 0.01)\n",
    "\n",
    "# Ponemos los valores iniciales en forma de vectores\n",
    "init_state = [1, 1, 1]\n",
    "\n",
    "#Resolvemos la ecuación diferencial\n",
    "state = odeint(eq, init_state, t)\n",
    "\n",
    "x= state[:, 0]\n",
    "y= state[:, 1]\n",
    "z= state[:, 2]"
   ]
  },
  {
   "cell_type": "markdown",
   "metadata": {},
   "source": [
    "Animación variables vs tiempo"
   ]
  },
  {
   "cell_type": "code",
   "execution_count": null,
   "metadata": {
    "collapsed": true
   },
   "outputs": [],
   "source": [
    "#hacemos la función animación\n",
    "\n",
    "################ Animación #################\n",
    "\n",
    "#### Variable con t ####\n",
    "\n",
    "#Hacemos la grafica tenue\n",
    "fig2 = figure()\n",
    "plt.xlabel('Variable')\n",
    "plt.ylabel('Tiempo')\n",
    "plt.plot(t, x, 'b-', alpha=0.2, label='x')\n",
    "plt.plot(t, y,  'r-', alpha=0.2, label='y')\n",
    "plt.plot(t, z,  'g-', alpha=0.2, label='z')\n",
    "#legend(loc='upper left')\n",
    "plt.legend()\n",
    "def animate2(i):\n",
    "    plt.plot(t[0:i], x[0:i], 'b-')\n",
    "    plt.plot(t[0:i], y[0:i], 'r-')\n",
    "    plt.plot(t[0:i], z[0:i], 'g-')\n",
    "\n",
    "ani1 = animation.FuncAnimation(fig2, animate2, interval=1)\n",
    "plt.show()"
   ]
  },
  {
   "cell_type": "markdown",
   "metadata": {},
   "source": [
    "Espacio fase 3D"
   ]
  },
  {
   "cell_type": "code",
   "execution_count": null,
   "metadata": {
    "collapsed": false
   },
   "outputs": [],
   "source": [
    "import matplotlib.pyplot as plt\n",
    "from mpl_toolkits.mplot3d import Axes3D\n",
    "\n",
    "\n",
    "fig = plt.figure()\n",
    "ax = Axes3D(fig)\n",
    "\n",
    "ax.plot(x, y, z, 'b-', alpha=0.2)\n",
    "plt.xlabel('x')\n",
    "plt.ylabel('y')\n",
    "\n",
    "def animate(i):\n",
    "    plt.plot(x[0:i], y[0:i], z[0:i], 'b-')\n",
    "    \n",
    "    \n",
    "ani = animation.FuncAnimation(fig, animate, interval=1)\n",
    "plt.show()"
   ]
  },
  {
   "cell_type": "markdown",
   "metadata": {},
   "source": [
    "Espacio fase de $x$ y $y$"
   ]
  },
  {
   "cell_type": "code",
   "execution_count": 38,
   "metadata": {
    "collapsed": false
   },
   "outputs": [],
   "source": [
    "### Espacio fase ###\n",
    "# en x y\n",
    "fig = plt.figure()\n",
    "plt.xlabel('x')\n",
    "plt.ylabel('y')\n",
    "plt.plot(x, y,'b-', alpha=0.2)\n",
    "\n",
    "def animate(i):\n",
    "    plt.plot(x[0:i], y[0:i], 'b-')\n",
    "\n",
    "    \n",
    "ani = animation.FuncAnimation(fig, animate, interval=1)\n",
    "plt.show()"
   ]
  },
  {
   "cell_type": "markdown",
   "metadata": {},
   "source": [
    "Espacio fase de $x$ y $z$"
   ]
  },
  {
   "cell_type": "code",
   "execution_count": 25,
   "metadata": {
    "collapsed": true
   },
   "outputs": [],
   "source": [
    "### Espacio fase ###\n",
    "# en x z\n",
    "fig = plt.figure()\n",
    "plt.xlabel('x')\n",
    "plt.ylabel('z')\n",
    "plt.plot(x, z, 'b-', alpha=0.2)\n",
    "\n",
    "def animate(i):\n",
    "    plt.plot(x[0:i], z[0:i], 'b-')\n",
    "    \n",
    "    \n",
    "ani = animation.FuncAnimation(fig, animate, interval=1)\n",
    "plt.show()"
   ]
  },
  {
   "cell_type": "markdown",
   "metadata": {},
   "source": [
    "Espacio fase de $z$ y $y$"
   ]
  },
  {
   "cell_type": "code",
   "execution_count": 32,
   "metadata": {
    "collapsed": true
   },
   "outputs": [],
   "source": [
    "### Espacio fase ###\n",
    "# en z y\n",
    "fig = plt.figure()\n",
    "plt.xlabel('z')\n",
    "plt.ylabel('y')\n",
    "plt.plot(z, y, 'b-', alpha=0.2)\n",
    "\n",
    "def animate(i):\n",
    "    plt.plot(z[0:i], y[0:i], 'b-')\n",
    "    \n",
    "    \n",
    "ani = animation.FuncAnimation(fig, animate, interval=1)\n",
    "plt.show()"
   ]
  }
 ],
 "metadata": {
  "anaconda-cloud": {},
  "kernelspec": {
   "display_name": "Python 3",
   "language": "python",
   "name": "python3"
  },
  "language_info": {
   "codemirror_mode": {
    "name": "ipython",
    "version": 3
   },
   "file_extension": ".py",
   "mimetype": "text/x-python",
   "name": "python",
   "nbconvert_exporter": "python",
   "pygments_lexer": "ipython3",
   "version": "3.5.1"
  }
 },
 "nbformat": 4,
 "nbformat_minor": 0
}
